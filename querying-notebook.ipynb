{
 "cells": [
  {
   "cell_type": "markdown",
   "metadata": {},
   "source": [
    "# Jira Task Number: "
   ]
  },
  {
   "cell_type": "markdown",
   "metadata": {},
   "source": [
    "## Task Description:\n"
   ]
  },
  {
   "cell_type": "markdown",
   "metadata": {},
   "source": [
    "## Imports"
   ]
  },
  {
   "cell_type": "markdown",
   "metadata": {},
   "source": [
    "Packages could of course be indiviually installed via a package manager such as pip or pipenv, but this provides a way to make sure the packages required are coupled with the notebook"
   ]
  },
  {
   "cell_type": "code",
   "execution_count": 5,
   "metadata": {},
   "outputs": [],
   "source": [
    "%%capture\n",
    "import os, sys\n",
    "!{sys.executable} -m pip3 install pymysql\n",
    "!{sys.executable} -m pip3 install sqlalchemy\n",
    "!{sys.executable} -m pip3 install pandas==1.0.1\n",
    "!{sys.executable} -m pip3 install numpy\n",
    "!{sys.executable} -m pip3 install matplotlib\n",
    "!{sys.executable} -m pip3 install boto3\n",
    "!{sys.executable} -m pip3 install s3fs\n",
    "!{sys.executable} -m pip3 install s3transfer\n",
    "!{sys.executable} -m pip3 install psycopg2-binary\n",
    "!{sys.executable} -m pip3 install pymysql\n",
    "!{sys.executable} -m pip3 install -U arrow"
   ]
  },
  {
   "cell_type": "code",
   "execution_count": 6,
   "metadata": {},
   "outputs": [],
   "source": [
    "import pymysql, matplotlib, boto3, time, arrow, s3fs\n",
    "from sqlalchemy import create_engine, Table, MetaData, text, select\n",
    "from pprint import pprint\n",
    "import pandas as pd\n",
    "import numpy as np\n",
    "from datetime import datetime\n",
    "from time import mktime\n",
    "import requests\n",
    "\n",
    "# These options improve viewing pandas dataframe results to be able to see all results \n",
    "pd.set_option('display.max_rows', 500)\n",
    "pd.set_option('mode.chained_assignment', None)"
   ]
  },
  {
   "cell_type": "markdown",
   "metadata": {},
   "source": [
    "## Insert the slack token, slack channel name, and put the correct file type in the cell below"
   ]
  },
  {
   "cell_type": "code",
   "execution_count": null,
   "metadata": {},
   "outputs": [],
   "source": [
    "slack_token=\"___\"\n",
    "\n",
    "def send_file_to_slack(filename=None, token=slack_token, filetype=\"csv\"):\n",
    "    \n",
    "    my_file = {\n",
    "      \"file\" : (filename, open(filename, \"rb\"), filetype)\n",
    "    }\n",
    "\n",
    "    payload={\n",
    "      \"filename\":filename, \n",
    "      \"token\":token, \n",
    "      \"channels\":['#___'], \n",
    "    }\n",
    "\n",
    "    r = requests.post(\"https://slack.com/api/files.upload\", params=payload, files=my_file)"
   ]
  },
  {
   "cell_type": "markdown",
   "metadata": {},
   "source": [
    "### Simple function for making initializing a dataframe column with a default value a bit more intuitive"
   ]
  },
  {
   "cell_type": "code",
   "execution_count": null,
   "metadata": {},
   "outputs": [],
   "source": [
    "def initialize_default_column(df,col_name,default_val):\n",
    "    \"\"\"\n",
    "    Initializes a column for a dataframe with a default value.\n",
    "\n",
    "    Arguments:\n",
    "        df {dataframe} -- dataframe to use\n",
    "        col_name {string} -- column name\n",
    "        default_val {anything} -- default value for the column to hold\n",
    "    \"\"\"\n",
    "    df[f'{col_name}']=f'{default_val}'"
   ]
  },
  {
   "cell_type": "markdown",
   "metadata": {},
   "source": [
    "## DB Credentials"
   ]
  },
  {
   "cell_type": "markdown",
   "metadata": {},
   "source": [
    "Insert the correct credentials for the database connection. Multiple database connections can be making a duplicate of this cell, changing variable names ot be unique and entering seperate values."
   ]
  },
  {
   "cell_type": "code",
   "execution_count": 7,
   "metadata": {},
   "outputs": [],
   "source": [
    "host='___'\n",
    "puser='___'\n",
    "port ='___'\n",
    "db='___'\n",
    "pw='___'\n",
    "dialect='___'\n",
    "driver='___'\n",
    "\n",
    "connection_str = f\"{dialect}+{driver}://{user}:{pw}@{host}:{port}/{db}\"\n",
    "engine = create_engine(connection_str)\n",
    "con = engine.connect()\n",
    "meta = MetaData()"
   ]
  },
  {
   "cell_type": "markdown",
   "metadata": {},
   "source": [
    "-----"
   ]
  },
  {
   "cell_type": "markdown",
   "metadata": {},
   "source": [
    "# Data Loading"
   ]
  },
  {
   "cell_type": "markdown",
   "metadata": {},
   "source": [
    "Put custom SQL queries within the triple quotes to query the database"
   ]
  },
  {
   "cell_type": "code",
   "execution_count": 9,
   "metadata": {},
   "outputs": [],
   "source": [
    "data_results = pd.read_sql_query(\"\"\"\n",
    "\n",
    ";\"\"\", con)"
   ]
  },
  {
   "cell_type": "markdown",
   "metadata": {},
   "source": [
    "----"
   ]
  },
  {
   "cell_type": "markdown",
   "metadata": {},
   "source": [
    "# Data Munging"
   ]
  },
  {
   "cell_type": "markdown",
   "metadata": {},
   "source": [
    "### The following are typical pandas solutions discovered over many hours of work. I've developed a solutions bank to cut down on time google searching for similar questions. Now I am able to first look at this solutions bank to see if the technique I am looking for is here already. If it is not I of course will find it through google, and then append it if it is useful to this list here."
   ]
  },
  {
   "cell_type": "markdown",
   "metadata": {},
   "source": [
    "### Typical solutions\n",
    "**left join 2 dataframes**: new_df=df1.merge(df2,how='left',on='merge_key')  \n",
    "**concat two string cols with space**: df['new_col']=df.col1.astype(str).str.cat(df.col2.astype(str), sep=' ')  \n",
    "**case when cols**: df['new_col'] = np.where(condition, result if condition true, result if condition false)  \n",
    "**filter df based of col value**: df=df[df.col==value]  \n",
    "**filter df for subset of cols**: filtered_df=df[['col1','col2','col3','col4']]  \n",
    "**initialize default cols**: [initialize_default_column(df, col_name, default_val) for col_name, default_val in \n",
    " [('col1',defaultval1), ('col2','defaultval2')]]  \n",
    " **initialize 1 default col**: df['col']='default_value'  \n",
    "**rename cols**: df=df.rename(columns={'col1': 'col1_newname','col2': 'col2_newname'})  \n",
    "**df to csv**: df.to_csv('csv_name.csv',sep=',', header=True)  \n",
    "**get first 5 characters of string as new col**: df['new_col'] = df.col.str[:5]  \n",
    "**filter df based off multiple conditions**: new_df=df[(cond1) & (cond2) & (cond3)]   \n",
    "**filter df based on length of string**: df[df['string_col'].str.len()> 30]  \n",
    "**get counts for col values**: df['col_freq'] = df.groupby('colname').colname.transform('count')  \n",
    "**drop cols**: df.drop(['col1', 'col2', 'col3'], axis=1)  \n",
    "**union dataframes**: unioned=pd.concat([df1, df2, df3], sort='False')  \n",
    "**get length of dataframe**: df.shape[0]  \n",
    "**groupby and get a new dataframe with count column from groupby object**: grouped_df=pd.DataFrame({'count_col' : valid.groupby( ['col1','col2','col3'] ).size()}).reset_index()    \n",
    "\n",
    "**get value_counts as new dataframe**: new_counts_df=df.col_name.value_counts().rename_axis('Number of __').reset_index(name='Count column name')  \n",
    "**get value_counts as new dataframe with frequencies**: new_counts_df=df.col_name.value_counts(normalize=True).rename_axis('Number of __').reset_index(name='Count column name')\n"
   ]
  },
  {
   "cell_type": "markdown",
   "metadata": {},
   "source": [
    "----"
   ]
  },
  {
   "cell_type": "markdown",
   "metadata": {},
   "source": [
    "# Data Transfer to Slack"
   ]
  },
  {
   "cell_type": "markdown",
   "metadata": {},
   "source": [
    "Once the data has been munged properly all that is left to do is convert the"
   ]
  },
  {
   "cell_type": "code",
   "execution_count": null,
   "metadata": {},
   "outputs": [],
   "source": [
    "df.to_csv('____.csv',sep=',', header=True)"
   ]
  },
  {
   "cell_type": "code",
   "execution_count": null,
   "metadata": {},
   "outputs": [],
   "source": [
    "send_file_to_slack(filename='____.csv')"
   ]
  }
 ],
 "metadata": {
  "kernelspec": {
   "display_name": "Python 3",
   "language": "python",
   "name": "python3"
  },
  "language_info": {
   "codemirror_mode": {
    "name": "ipython",
    "version": 3
   },
   "file_extension": ".py",
   "mimetype": "text/x-python",
   "name": "python",
   "nbconvert_exporter": "python",
   "pygments_lexer": "ipython3",
   "version": "3.7.3"
  }
 },
 "nbformat": 4,
 "nbformat_minor": 4
}
